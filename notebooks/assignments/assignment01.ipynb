{
 "cells": [
  {
   "cell_type": "code",
   "execution_count": null,
   "metadata": {},
   "outputs": [],
   "source": [
    "import matplotlib.pyplot as plt\n",
    "from mplsoccer import Pitch, Sbopen\n",
    "import numpy as np\n",
    "import pandas as pd"
   ]
  },
  {
   "cell_type": "code",
   "execution_count": null,
   "metadata": {},
   "outputs": [],
   "source": [
    "col = {\n",
    "    \"gray\": \"#878787\",\n",
    "    \"violet\": \"#976cf4\",\n",
    "    \"turquoise\": \"#23969a\",\n",
    "    \"coral\": \"#c86f6d\",\n",
    "    \"ocher\": \"#b98327\",\n",
    "    }"
   ]
  },
  {
   "cell_type": "code",
   "execution_count": null,
   "metadata": {},
   "outputs": [],
   "source": [
    "#opening data using competition method\n",
    "parser = Sbopen()\n",
    "df_competitions = parser.competition()"
   ]
  },
  {
   "cell_type": "code",
   "execution_count": null,
   "metadata": {},
   "outputs": [],
   "source": [
    "competition_name = \"UEFA Women's Euro\"\n",
    "season_name = \"2022\"\n",
    "bind = (df_competitions[\"competition_name\"] == competition_name) & (df_competitions[\"season_name\"] == season_name)\n",
    "competition_id = df_competitions[bind][\"competition_id\"].to_numpy()[0]\n",
    "season_id = df_competitions[bind][\"season_id\"].to_numpy()[0]\n",
    "print(f\"{competition_name} {season_name}\")\n",
    "print(f\"Competition ID: {competition_id}\")\n",
    "print(f\"Season ID: {season_id}\")"
   ]
  },
  {
   "cell_type": "code",
   "execution_count": null,
   "metadata": {},
   "outputs": [],
   "source": [
    "#opening data using match method\n",
    "df_matches = parser.match(competition_id=competition_id, season_id=season_id)"
   ]
  },
  {
   "cell_type": "code",
   "execution_count": null,
   "metadata": {},
   "outputs": [],
   "source": [
    "team_name = \"Germany Women's\"\n",
    "player_name = \"Lena Oberdorf\""
   ]
  },
  {
   "cell_type": "code",
   "execution_count": null,
   "metadata": {},
   "outputs": [],
   "source": [
    "bind_matches = (df_matches[\"home_team_name\"] ==  team_name) | (df_matches[\"away_team_name\"] ==  team_name)"
   ]
  },
  {
   "cell_type": "code",
   "execution_count": null,
   "metadata": {},
   "outputs": [],
   "source": [
    "match_ids = df_matches[bind_matches][\"match_id\"].to_numpy()\n",
    "print(f\"{team_name} matchen in {competition_name} {season_name}\")\n",
    "for match_id in match_ids:\n",
    "    home_team_name = df_matches[df_matches[\"match_id\"] == match_id][\"home_team_name\"].unique()[0]\n",
    "    away_team_name = df_matches[df_matches[\"match_id\"] == match_id][\"away_team_name\"].unique()[0]\n",
    "    print(f\"Match ID: {match_id}: {home_team_name} - {away_team_name}\")"
   ]
  },
  {
   "cell_type": "code",
   "execution_count": null,
   "metadata": {},
   "outputs": [],
   "source": [
    "# lineup in first match\n",
    "df_lineup = parser.lineup(match_ids[-1])\n",
    "player_id = df_lineup[df_lineup[\"player_name\"] == player_name][\"player_id\"].to_numpy()[0]\n",
    "print(f\"Player name: {player_name}\")\n",
    "print(f\"Player ID: {player_id}\")\n"
   ]
  },
  {
   "cell_type": "markdown",
   "metadata": {},
   "source": [
    "### Analysis of the passes"
   ]
  },
  {
   "cell_type": "code",
   "execution_count": null,
   "metadata": {},
   "outputs": [],
   "source": [
    "# match_id = 3835322  # Germany vs Denmark\n",
    "# match_id = 3835330 # Germany vs Spain\n",
    "# match_id = 3835322 # Germany vs Finland\n",
    "\n",
    "match_id = 3844385  # Germany vs Austria\n",
    "# match_id = 3845507  # Germany vs France\n",
    "# match_id = 3847567  # Germany vs England\n",
    "\n",
    "df, _, _, _ = parser.event(match_id)\n",
    "#get team names\n",
    "team1, team2 = df.team_name.unique()\n",
    "if team1 == team_name:\n",
    "    oppenent_team_name = team2\n",
    "else:\n",
    "    oppenent_team_name = team1\n",
    "print(f\"Team 1: {team1}\")\n",
    "print(f\"Team 2: {team2}\")\n",
    "print(f\"Opponent team: {oppenent_team_name}\")"
   ]
  },
  {
   "cell_type": "code",
   "execution_count": null,
   "metadata": {},
   "outputs": [],
   "source": [
    "# include only \"normal\" passes, i.e., no corners, free-kicks, throw-ins etc.\n",
    "df_passes = df[(df[\"type_name\"] == \"Pass\") & (df[\"sub_type_name\"].isna())]\n",
    "bind_passes_oberdorf = (df_passes[\"team_name\"] == team_name) & (df_passes[\"player_id\"] == player_id)\n",
    "df_passes_oberdorf = df_passes[bind_passes_oberdorf]\n",
    "nrof_passes = df_passes_oberdorf.shape[0]\n",
    "nrof_passes_forward = df_passes_oberdorf[df_passes_oberdorf.end_x > df_passes_oberdorf.x].shape[0]\n",
    "print(f\"Number of passes by Oberdorf: {nrof_passes}\")\n",
    "print(f\"Number of passses forward: {nrof_passes_forward}\")\n",
    "\n",
    "for match_player_id in df[(df[\"team_name\"] == team_name) & (df[\"player_id\"].notna())][\"player_id\"].unique():\n",
    "    match_player_name = df[df[\"player_id\"] == match_player_id][\"player_name\"].to_numpy()[0]\n",
    "    bind_passes_match_player = (df_passes[\"team_name\"] == team_name) & (df_passes[\"player_id\"] == match_player_id)\n",
    "    df_passes_match_player = df_passes[bind_passes_match_player]\n",
    "    nrof_passes_match_player = df_passes_match_player.shape[0]\n",
    "    nrof_passes_forward_match_player = df_passes_match_player[df_passes_match_player.end_x > df_passes_match_player.x].shape[0]\n",
    "    print(f\"Player name: {match_player_name}: {nrof_passes_match_player} ({nrof_passes_forward_match_player})\")"
   ]
  },
  {
   "cell_type": "code",
   "execution_count": null,
   "metadata": {},
   "outputs": [],
   "source": [
    "pitch = Pitch(line_color='black')\n",
    "fig, ax = pitch.grid(grid_height=0.9, title_height=0.06, axis=False,\n",
    "                     endnote_height=0.04, title_space=0, endnote_space=0)\n",
    "pitch.scatter(df_passes_oberdorf[\"x\"], df_passes_oberdorf[\"y\"], alpha = .4, s = 225, color = \"blue\", ax=ax['pitch'])"
   ]
  },
  {
   "cell_type": "code",
   "execution_count": null,
   "metadata": {},
   "outputs": [],
   "source": [
    "pitch = Pitch(pitch_type='statsbomb', line_color='black')\n",
    "fig, ax = pitch.draw(figsize=(16, 11), constrained_layout=True, tight_layout=False)\n",
    "fig.set_facecolor('#22312b')\n",
    "pitch.arrows(\n",
    "    df_passes_oberdorf.x,\n",
    "    df_passes_oberdorf.y,\n",
    "    df_passes_oberdorf.end_x,\n",
    "    df_passes_oberdorf.end_y,\n",
    "    ax=ax,\n",
    "    width=2,\n",
    "    headwidth=10,\n",
    "    headlength=10,\n",
    "    color='blue',\n",
    "    label='completed passes')"
   ]
  },
  {
   "cell_type": "markdown",
   "metadata": {},
   "source": [
    "### Passing network analysis"
   ]
  },
  {
   "cell_type": "code",
   "execution_count": null,
   "metadata": {},
   "outputs": [],
   "source": [
    "#check for index of first sub\n",
    "sub = df.loc[df[\"type_name\"] == \"Substitution\"].loc[df[\"team_name\"] == team_name].iloc[0][\"index\"]\n",
    "#make df with successfull passes by Germany until the first substitution\n",
    "mask_germany = (df.type_name == 'Pass') & (df.team_name == team_name) & (df.index < sub) & (df.outcome_name.isnull()) & (df.sub_type_name != \"Throw-in\")\n",
    "#taking necessary columns\n",
    "df_pass = df.loc[mask_germany, ['x', 'y', 'end_x', 'end_y', \"player_name\", \"pass_recipient_name\"]]\n",
    "#adjusting that only the surname of a player is presented.\n",
    "df_pass[\"player_name\"] = df_pass[\"player_name\"].apply(lambda x: str(x).split()[-1])\n",
    "df_pass[\"pass_recipient_name\"] = df_pass[\"pass_recipient_name\"].apply(lambda x: str(x).split()[-1])"
   ]
  },
  {
   "cell_type": "code",
   "execution_count": null,
   "metadata": {},
   "outputs": [],
   "source": [
    "scatter_df = pd.DataFrame()\n",
    "for i, name in enumerate(df_pass[\"player_name\"].unique()):\n",
    "    passx = df_pass.loc[df_pass[\"player_name\"] == name][\"x\"].to_numpy()\n",
    "    recx = df_pass.loc[df_pass[\"pass_recipient_name\"] == name][\"end_x\"].to_numpy()\n",
    "    passy = df_pass.loc[df_pass[\"player_name\"] == name][\"y\"].to_numpy()\n",
    "    recy = df_pass.loc[df_pass[\"pass_recipient_name\"] == name][\"end_y\"].to_numpy()\n",
    "    scatter_df.at[i, \"player_name\"] = name\n",
    "    #make sure that x and y location for each circle representing the player is the average of passes and receptions\n",
    "    scatter_df.at[i, \"x\"] = np.mean(np.concatenate([passx, recx]))\n",
    "    scatter_df.at[i, \"y\"] = np.mean(np.concatenate([passy, recy]))\n",
    "    #calculate number of passes\n",
    "    scatter_df.at[i, \"no\"] = df_pass.loc[df_pass[\"player_name\"] == name].count().iloc[0]\n",
    "\n",
    "#adjust the size of a circle so that the player who made more passes\n",
    "scatter_df['marker_size'] = (scatter_df['no'] / scatter_df['no'].max() * 1500)"
   ]
  },
  {
   "cell_type": "code",
   "execution_count": null,
   "metadata": {},
   "outputs": [],
   "source": [
    "#counting passes between players\n",
    "lines_df = df_pass.groupby(['player_name', 'pass_recipient_name']).x.count().reset_index()\n",
    "lines_df.rename({'x':'pass_count'}, axis='columns', inplace=True)\n",
    "#setting a treshold. You can try to investigate how it changes when you change it.\n",
    "lines_df = lines_df[lines_df['pass_count']>=3]"
   ]
  },
  {
   "cell_type": "code",
   "execution_count": null,
   "metadata": {},
   "outputs": [],
   "source": [
    "#Drawing pitch\n",
    "# pitch = Pitch(line_color='grey')\n",
    "# fig, ax = pitch.grid(grid_height=0.9, title_height=0.06, axis=False,\n",
    "#                      endnote_height=0.04, title_space=0, endnote_space=0)\n",
    "\n",
    "pitch = Pitch(pitch_type='statsbomb', line_color='grey')\n",
    "fig, ax = pitch.draw(figsize=(16, 11), constrained_layout=True, tight_layout=False)\n",
    "#Scatter the location on the pitch\n",
    "pitch.scatter(scatter_df.x, scatter_df.y, s=scatter_df.marker_size, color=col.get(\"violet\"), edgecolors='grey', linewidth=1, alpha=1, ax=ax, zorder = 3)\n",
    "#annotating player name\n",
    "for i, row in scatter_df.iterrows():\n",
    "    pitch.annotate(row.player_name, xy=(row.x, row.y), c='black', va='center', ha='center', weight = \"bold\", size=16, ax=ax, zorder = 4)\n",
    "\n",
    "# fig.suptitle(\"Player location - Germany\", fontsize = 30)\n",
    "plt.show()"
   ]
  },
  {
   "cell_type": "code",
   "execution_count": null,
   "metadata": {},
   "outputs": [],
   "source": [
    "#plot once again pitch and vertices\n",
    "nw_color = col.get(\"ocher\")\n",
    "pitch = Pitch(pitch_type='statsbomb', line_color='grey')\n",
    "fig, ax = pitch.draw(figsize=(16, 11), constrained_layout=True, tight_layout=False)\n",
    "pitch.scatter(scatter_df.x, scatter_df.y, s=scatter_df.marker_size, color=nw_color, edgecolors='grey', linewidth=1, alpha=1, ax=ax, zorder = 3)\n",
    "for i, row in scatter_df.iterrows():\n",
    "    pitch.annotate(row.player_name, xy=(row.x, row.y), c='black', va='center', ha='center', weight = \"bold\", size=16, ax=ax, zorder = 4)\n",
    "\n",
    "for i, row in lines_df.iterrows():\n",
    "        player1 = row[\"player_name\"]\n",
    "        player2 = row['pass_recipient_name']\n",
    "        #take the average location of players to plot a line between them\n",
    "        player1_x = scatter_df.loc[scatter_df[\"player_name\"] == player1]['x'].iloc[0]\n",
    "        player1_y = scatter_df.loc[scatter_df[\"player_name\"] == player1]['y'].iloc[0]\n",
    "        player2_x = scatter_df.loc[scatter_df[\"player_name\"] == player2]['x'].iloc[0]\n",
    "        player2_y = scatter_df.loc[scatter_df[\"player_name\"] == player2]['y'].iloc[0]\n",
    "        num_passes = row[\"pass_count\"]\n",
    "        #adjust the line width so that the more passes, the wider the line\n",
    "        line_width = (num_passes / lines_df['pass_count'].max() * 10)\n",
    "        #plot lines on the pitch\n",
    "        pitch.lines(player1_x, player1_y, player2_x, player2_y,\n",
    "                        alpha=1, lw=line_width, zorder=2, color=nw_color, ax = ax)\n",
    "\n",
    "# fig.suptitle(f\"Germany Passing Network against {oppenent_team_name.split()[0]}\", fontsize = 24)\n",
    "fig.savefig(\"PassingNework.svg\", format=\"svg\")\n",
    "plt.show()"
   ]
  },
  {
   "cell_type": "markdown",
   "metadata": {},
   "source": [
    "### Defensive actions"
   ]
  },
  {
   "cell_type": "code",
   "execution_count": null,
   "metadata": {},
   "outputs": [],
   "source": [
    "df[\"type_name\"].unique()"
   ]
  },
  {
   "cell_type": "code",
   "execution_count": null,
   "metadata": {},
   "outputs": [],
   "source": [
    "df[(df[\"type_name\"] == \"Duel\") & (df[\"player_name\"] == player_name)][[\"player_name\", \"type_name\", \"sub_type_name\", \"play_pattern_name\", \"outcome_name\"]]"
   ]
  },
  {
   "cell_type": "code",
   "execution_count": null,
   "metadata": {},
   "outputs": [],
   "source": [
    "df[(df[\"type_name\"] == \"Interception\") & (df[\"player_name\"] == player_name)][[\"player_name\", \"type_name\", \"sub_type_name\", \"play_pattern_name\", \"outcome_name\"]]"
   ]
  },
  {
   "cell_type": "code",
   "execution_count": null,
   "metadata": {},
   "outputs": [],
   "source": [
    "df[(df[\"type_name\"] == \"Carry\") & (df[\"player_name\"] == player_name)][[\"player_name\", \"type_name\", \"sub_type_name\", \"play_pattern_name\", \"outcome_name\"]]\n"
   ]
  },
  {
   "cell_type": "code",
   "execution_count": null,
   "metadata": {},
   "outputs": [],
   "source": [
    "df[(df[\"type_name\"] == \"Pressure\") & (df[\"player_name\"] == player_name)][[\"player_name\", \"type_name\", \"sub_type_name\", \"play_pattern_name\", \"outcome_name\"]]"
   ]
  },
  {
   "cell_type": "code",
   "execution_count": null,
   "metadata": {},
   "outputs": [],
   "source": [
    "df[(df[\"type_name\"] == \"Block\") & (df[\"player_name\"] == player_name)][[\"player_name\", \"type_name\", \"sub_type_name\", \"play_pattern_name\", \"outcome_name\"]]\n"
   ]
  },
  {
   "cell_type": "code",
   "execution_count": null,
   "metadata": {},
   "outputs": [],
   "source": [
    "df[(df[\"type_name\"] == \"Ball Recovery\") & (df[\"player_name\"] == player_name)][[\"player_name\", \"type_name\", \"sub_type_name\", \"play_pattern_name\", \"outcome_name\"]]"
   ]
  },
  {
   "cell_type": "code",
   "execution_count": null,
   "metadata": {},
   "outputs": [],
   "source": [
    "df_duel = pd.DataFrame()\n",
    "df_interception = pd.DataFrame()\n",
    "for match_id in match_ids:\n",
    "    df_idx, _, _, _ = parser.event(match_id)\n",
    "    df_idx_duel = df_idx[(df_idx[\"type_name\"] == \"Duel\") & (df_idx[\"player_name\"] == player_name)]\n",
    "    df_idx_interception = df_idx[(df_idx[\"type_name\"] == \"Interception\") & (df_idx[\"player_name\"] == player_name)]\n",
    "    df_duel = pd.concat([df_duel, df_idx_duel], axis=0)\n",
    "    df_interception = pd.concat([df_interception, df_idx_interception], axis=0)\n"
   ]
  },
  {
   "cell_type": "code",
   "execution_count": null,
   "metadata": {},
   "outputs": [],
   "source": [
    "df_duel.shape"
   ]
  },
  {
   "cell_type": "code",
   "execution_count": null,
   "metadata": {},
   "outputs": [],
   "source": [
    "df_duel[[\"player_name\", \"type_name\", \"sub_type_name\", \"play_pattern_name\", \"outcome_name\"]]"
   ]
  },
  {
   "cell_type": "code",
   "execution_count": null,
   "metadata": {},
   "outputs": [],
   "source": [
    "bind_successful_duel = (df_duel[\"outcome_name\"] == \"Won\") | (df_duel[\"outcome_name\"] == \"Success In Play\")\n",
    "\n",
    "event_color = col.get(\"ocher\")\n",
    "pitch = Pitch(pitch_type='statsbomb', line_color='grey')\n",
    "fig, ax = pitch.draw(figsize=(16, 11), constrained_layout=True, tight_layout=False)\n",
    "pitch.scatter(df_duel[bind_successful_duel][\"x\"], df_duel[bind_successful_duel][\"y\"], alpha = 1, s = 225, color=event_color, ax=ax)\n",
    "pitch.scatter(df_duel[~bind_successful_duel][\"x\"], df_duel[~bind_successful_duel][\"y\"], alpha = .2, s = 225, color=event_color, ax=ax)\n",
    "fig.savefig(\"Duels.svg\", format=\"svg\")\n",
    "fig.show()"
   ]
  },
  {
   "cell_type": "code",
   "execution_count": null,
   "metadata": {},
   "outputs": [],
   "source": [
    "event_color = col.get(\"ocher\")\n",
    "pitch = Pitch(pitch_type='statsbomb', line_color='grey')\n",
    "fig, ax = pitch.draw(figsize=(16, 11), constrained_layout=True, tight_layout=False)\n",
    "pitch.scatter(df_interception[\"x\"], df_interception[\"y\"], alpha = .4, s = 225, color=event_color, ax=ax)\n",
    "# pitch.scatter(df_interception[\"x\"], df_interception[\"y\"], alpha = .4, s = 225, color=event_color, ax=ax)\n",
    "ax.axis(\"equal\")"
   ]
  },
  {
   "cell_type": "code",
   "execution_count": null,
   "metadata": {},
   "outputs": [],
   "source": [
    "df_duel[bind_successful_duel].shape"
   ]
  },
  {
   "cell_type": "code",
   "execution_count": null,
   "metadata": {},
   "outputs": [],
   "source": []
  }
 ],
 "metadata": {
  "kernelspec": {
   "display_name": "Python 3.10.1 ('venv': venv)",
   "language": "python",
   "name": "python3"
  },
  "language_info": {
   "codemirror_mode": {
    "name": "ipython",
    "version": 3
   },
   "file_extension": ".py",
   "mimetype": "text/x-python",
   "name": "python",
   "nbconvert_exporter": "python",
   "pygments_lexer": "ipython3",
   "version": "3.10.1"
  },
  "orig_nbformat": 4,
  "vscode": {
   "interpreter": {
    "hash": "b9a4b7522b467907e1bd97e81398b2f4027919df776a5c4e3b9f24ddb136cbcb"
   }
  }
 },
 "nbformat": 4,
 "nbformat_minor": 2
}
