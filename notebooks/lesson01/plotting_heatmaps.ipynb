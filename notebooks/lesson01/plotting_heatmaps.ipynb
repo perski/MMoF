{
 "cells": [
  {
   "cell_type": "code",
   "execution_count": null,
   "metadata": {},
   "outputs": [],
   "source": [
    "import matplotlib.pyplot as plt\n",
    "from mplsoccer import Pitch, Sbopen, VerticalPitch\n",
    "import pandas as pd"
   ]
  },
  {
   "cell_type": "code",
   "execution_count": null,
   "metadata": {},
   "outputs": [],
   "source": [
    "#open the data\n",
    "parser = Sbopen()\n",
    "df_match = parser.match(competition_id=72, season_id=30)\n",
    "#our team\n",
    "team = \"England Women's\"\n",
    "#get list of games by our team, either home or away\n",
    "match_ids = df_match.loc[(df_match[\"home_team_name\"] == team) | (df_match[\"away_team_name\"] == team)][\"match_id\"].tolist()\n",
    "#calculate number of games\n",
    "no_games = len(match_ids)"
   ]
  },
  {
   "cell_type": "code",
   "execution_count": null,
   "metadata": {},
   "outputs": [],
   "source": [
    "xg_lim = 0.07\n",
    "\n",
    "#declare an empty dataframe\n",
    "danger_passes = pd.DataFrame()\n",
    "for idx in match_ids:\n",
    "    #open the event data from this game\n",
    "    df = parser.event(idx)[0]\n",
    "    for period in [1, 2]:\n",
    "        #keep only accurate passes by England that were not set pieces in this period\n",
    "        mask_pass = (df.team_name == team) & (df.type_name == \"Pass\") & (df.outcome_name.isnull()) & (df.period == period) & (df.sub_type_name.isnull())\n",
    "        #keep only necessary columns\n",
    "        passes = df.loc[mask_pass, [\"x\", \"y\", \"end_x\", \"end_y\", \"minute\", \"second\", \"player_name\"]]\n",
    "        #keep only Shots by England in this period\n",
    "        mask_shot = (df.team_name == team) & (df.type_name == \"Shot\") & (df.period == period) & (df.shot_statsbomb_xg > xg_lim)\n",
    "        #keep only necessary columns\n",
    "        shots = df.loc[mask_shot, [\"minute\", \"second\"]]\n",
    "        #convert time to seconds\n",
    "        shot_times = shots['minute']*60+shots['second']\n",
    "        shot_window = 15\n",
    "        #find starts of the window\n",
    "        shot_start = shot_times - shot_window\n",
    "        #condition to avoid negative shot starts\n",
    "        shot_start = shot_start.apply(lambda i: i if i>0 else (period-1)*45)\n",
    "        #convert to seconds\n",
    "        pass_times = passes['minute']*60+passes['second']\n",
    "        #check if pass is in any of the windows for this half\n",
    "        pass_to_shot = pass_times.apply(lambda x: True in ((shot_start < x) & (x < shot_times)).unique())\n",
    "\n",
    "        #keep only danger passes\n",
    "        danger_passes_period = passes.loc[pass_to_shot]\n",
    "        #concatenate dataframe with a previous one to keep danger passes from the whole tournament\n",
    "        danger_passes = pd.concat([danger_passes, danger_passes_period])"
   ]
  },
  {
   "cell_type": "code",
   "execution_count": null,
   "metadata": {},
   "outputs": [],
   "source": [
    "#plot pitch\n",
    "pitch = Pitch(line_color='black')\n",
    "fig, ax = pitch.grid(grid_height=0.9, title_height=0.06, axis=False,\n",
    "                     endnote_height=0.04, title_space=0, endnote_space=0)\n",
    "#scatter the location on the pitch\n",
    "pitch.scatter(danger_passes.x, danger_passes.y, s=100, color='blue', edgecolors='grey', linewidth=1, alpha=0.2, ax=ax[\"pitch\"])\n",
    "#uncomment it to plot arrows\n",
    "#pitch.arrows(danger_passes.x, danger_passes.y, danger_passes.end_x, danger_passes.end_y, color = \"blue\", ax=ax['pitch'])\n",
    "#add title\n",
    "fig.suptitle('Location of danger passes by ' + team, fontsize = 30)\n",
    "plt.show()"
   ]
  },
  {
   "cell_type": "code",
   "execution_count": null,
   "metadata": {},
   "outputs": [],
   "source": [
    "#plot vertical pitch\n",
    "pitch = Pitch(line_zorder=2, line_color='black')\n",
    "fig, ax = pitch.grid(grid_height=0.9, title_height=0.06, axis=False,\n",
    "                     endnote_height=0.04, title_space=0, endnote_space=0)\n",
    "#get the 2D histogram\n",
    "bin_statistic = pitch.bin_statistic(danger_passes.x, danger_passes.y, statistic='count', bins=(6, 5), normalize=False)\n",
    "#normalize by number of games\n",
    "bin_statistic[\"statistic\"] = bin_statistic[\"statistic\"]/no_games\n",
    "#make a heatmap\n",
    "pcm  = pitch.heatmap(bin_statistic, cmap='Reds', edgecolor='grey', ax=ax['pitch'])\n",
    "#legend to our plot\n",
    "ax_cbar = fig.add_axes((1, 0.093, 0.03, 0.786))\n",
    "cbar = plt.colorbar(pcm, cax=ax_cbar)\n",
    "fig.suptitle('Danger passes by ' + team + \" per game\", fontsize = 30)\n",
    "plt.show()"
   ]
  },
  {
   "cell_type": "code",
   "execution_count": null,
   "metadata": {},
   "outputs": [],
   "source": [
    "#keep only surnames\n",
    "danger_passes[\"player_name\"] = danger_passes[\"player_name\"].apply(lambda x: str(x).split()[-1])\n",
    "#count passes by player and normalize them\n",
    "pass_count = danger_passes.groupby([\"player_name\"]).x.count()/no_games\n",
    "#make a histogram\n",
    "ax = pass_count.plot.bar(pass_count)\n",
    "#make legend\n",
    "ax.set_xlabel(\"\")\n",
    "ax.set_ylabel(\"Number of danger passes per game\")\n",
    "plt.show()"
   ]
  },
  {
   "cell_type": "code",
   "execution_count": null,
   "metadata": {},
   "outputs": [],
   "source": [
    "df.columns"
   ]
  },
  {
   "cell_type": "code",
   "execution_count": null,
   "metadata": {},
   "outputs": [],
   "source": [
    "df[\"mask_shot\"]"
   ]
  },
  {
   "cell_type": "code",
   "execution_count": null,
   "metadata": {},
   "outputs": [],
   "source": [
    "df[df[\"type_name\"] == \"Shot\"][[\"possession\", \"type_name\", \"sub_type_name\", \"shot_statsbomb_xg\"]].head(10)"
   ]
  },
  {
   "cell_type": "code",
   "execution_count": null,
   "metadata": {},
   "outputs": [],
   "source": []
  }
 ],
 "metadata": {
  "kernelspec": {
   "display_name": "Python 3.10.1 ('venv': venv)",
   "language": "python",
   "name": "python3"
  },
  "language_info": {
   "codemirror_mode": {
    "name": "ipython",
    "version": 3
   },
   "file_extension": ".py",
   "mimetype": "text/x-python",
   "name": "python",
   "nbconvert_exporter": "python",
   "pygments_lexer": "ipython3",
   "version": "3.10.1"
  },
  "orig_nbformat": 4,
  "vscode": {
   "interpreter": {
    "hash": "b9a4b7522b467907e1bd97e81398b2f4027919df776a5c4e3b9f24ddb136cbcb"
   }
  }
 },
 "nbformat": 4,
 "nbformat_minor": 2
}
