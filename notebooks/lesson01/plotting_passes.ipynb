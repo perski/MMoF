{
 "cells": [
  {
   "cell_type": "code",
   "execution_count": null,
   "metadata": {},
   "outputs": [],
   "source": [
    "import matplotlib.pyplot as plt\n",
    "import numpy as np\n",
    "from mplsoccer import Pitch, Sbopen, VerticalPitch"
   ]
  },
  {
   "cell_type": "code",
   "execution_count": null,
   "metadata": {},
   "outputs": [],
   "source": [
    "# load event data for match 69301\n",
    "parser = Sbopen()\n",
    "df, related, freeze, tactics = parser.event(69301)\n",
    "#get team names\n",
    "team1, team2 = df.team_name.unique()\n",
    "#A dataframe of shots\n",
    "shots = df.loc[df['type_name'] == 'Shot'].set_index('id')"
   ]
  },
  {
   "cell_type": "code",
   "execution_count": null,
   "metadata": {},
   "outputs": [],
   "source": [
    "pitch = Pitch(line_color = \"black\")\n",
    "fig, ax = pitch.draw(figsize=(10, 7))\n",
    "#Size of the pitch in yards (!!!)\n",
    "pitchLengthX = 120\n",
    "pitchWidthY = 80\n",
    "#Plot the shots by looping through them.\n",
    "for i,shot in shots.iterrows():\n",
    "    #get the information\n",
    "    x=shot['x']\n",
    "    y=shot['y']\n",
    "    goal=shot['outcome_name']=='Goal'\n",
    "    team_name=shot['team_name']\n",
    "    #set circlesize\n",
    "    circleSize=2\n",
    "    #plot England\n",
    "    if (team_name==team1):\n",
    "        if goal:\n",
    "            shotCircle=plt.Circle((x,y),circleSize,color=\"red\")\n",
    "            plt.text(x+1,y-2,shot['player_name'])\n",
    "        else:\n",
    "            shotCircle=plt.Circle((x,y),circleSize,color=\"red\")\n",
    "            shotCircle.set_alpha(.2)\n",
    "    #plot Sweden\n",
    "    else:\n",
    "        if goal:\n",
    "            shotCircle=plt.Circle((pitchLengthX-x,pitchWidthY - y),circleSize,color=\"blue\")\n",
    "            plt.text(pitchLengthX-x+1,pitchWidthY - y - 2 ,shot['player_name'])\n",
    "        else:\n",
    "            shotCircle=plt.Circle((pitchLengthX-x,pitchWidthY - y),circleSize,color=\"blue\")\n",
    "            shotCircle.set_alpha(.2)\n",
    "    ax.add_patch(shotCircle)\n",
    "#set title\n",
    "fig.suptitle(\"England (red) and Sweden (blue) shots\", fontsize = 24)\n",
    "fig.set_size_inches(10, 7)\n",
    "plt.show()"
   ]
  },
  {
   "cell_type": "code",
   "execution_count": null,
   "metadata": {},
   "outputs": [],
   "source": [
    "#create pitch\n",
    "pitch = Pitch(line_color='black')\n",
    "fig, ax = pitch.grid(grid_height=0.9, title_height=0.06, axis=False,\n",
    "                     endnote_height=0.04, title_space=0, endnote_space=0)\n",
    "#query\n",
    "mask_england = (df.type_name == 'Shot') & (df.team_name == team1)\n",
    "#finding rows in the df and keeping only necessary columns\n",
    "df_england = df.loc[mask_england, ['x', 'y', 'outcome_name', \"player_name\"]]\n",
    "\n",
    "#plot them - if shot ended with Goal - alpha 1 and add name\n",
    "#for England\n",
    "for i, row in df_england.iterrows():\n",
    "    if row[\"outcome_name\"] == 'Goal':\n",
    "    #make circle\n",
    "       pitch.scatter(row.x, row.y, alpha = 1, s = 500, color = \"red\", ax=ax['pitch'])\n",
    "       pitch.annotate(row[\"player_name\"], (row.x + 1, row.y - 2), ax=ax['pitch'], fontsize = 12)\n",
    "    else:\n",
    "       pitch.scatter(row.x, row.y, alpha = 0.2, s = 500, color = \"red\", ax=ax['pitch'])\n",
    "\n",
    "mask_sweden = (df.type_name == 'Shot') & (df.team_name == team2)\n",
    "df_sweden = df.loc[mask_sweden, ['x', 'y', 'outcome_name', \"player_name\"]]\n",
    "\n",
    "#for Sweden we need to revert coordinates\n",
    "for i, row in df_sweden.iterrows():\n",
    "    if row[\"outcome_name\"] == 'Goal':\n",
    "       pitch.scatter(120 - row.x, 80 - row.y, alpha = 1, s = 500, color = \"blue\", ax=ax['pitch'])\n",
    "       pitch.annotate(row[\"player_name\"], (120 - row.x + 1, 80 - row.y - 2), ax=ax['pitch'], fontsize = 12)\n",
    "    else:\n",
    "       pitch.scatter(120 - row.x, 80 - row.y, alpha = 0.2, s = 500, color = \"blue\", ax=ax['pitch'])\n",
    "\n",
    "fig.suptitle(\"England (red) and Sweden (blue) shots\", fontsize = 30)\n",
    "plt.show()"
   ]
  },
  {
   "cell_type": "code",
   "execution_count": null,
   "metadata": {},
   "outputs": [],
   "source": [
    "pitch = VerticalPitch(line_color='black', half = True)\n",
    "fig, ax = pitch.grid(grid_height=0.9, title_height=0.06, axis=False,\n",
    "                     endnote_height=0.04, title_space=0, endnote_space=0)\n",
    "#plotting all shots\n",
    "pitch.scatter(df_england.x, df_england.y, alpha = 1, s = 500, color = \"red\", ax=ax['pitch'], edgecolors=\"black\")\n",
    "fig.suptitle(\"England shots against Sweden\", fontsize = 30)\n",
    "plt.show()"
   ]
  },
  {
   "cell_type": "markdown",
   "metadata": {},
   "source": [
    "#### Challenge\n",
    "\n",
    "* Create a dataframe of passes which contains all the passes in the match\n",
    "\n",
    "* Plot the start point of every Sweden pass. Attacking left to right.\n",
    "\n",
    "* Plot only passes made by Caroline Seger (she is Sara Caroline Seger in the database)\n",
    "\n",
    "* Plot arrows to show where the passes went to.\n"
   ]
  },
  {
   "cell_type": "code",
   "execution_count": null,
   "metadata": {},
   "outputs": [],
   "source": [
    "df_passes = "
   ]
  },
  {
   "cell_type": "code",
   "execution_count": null,
   "metadata": {},
   "outputs": [],
   "source": [
    "df.columns.type_name.unique()"
   ]
  },
  {
   "cell_type": "code",
   "execution_count": null,
   "metadata": {},
   "outputs": [],
   "source": [
    "df[\"type_name\"].unique()"
   ]
  },
  {
   "cell_type": "code",
   "execution_count": null,
   "metadata": {},
   "outputs": [],
   "source": [
    "df[\"sub_type_name\"].unique()"
   ]
  },
  {
   "cell_type": "code",
   "execution_count": null,
   "metadata": {},
   "outputs": [],
   "source": [
    "df[\"full_type_name\"] = df[\"type_name\"] + \" - \" + df[\"sub_type_name\"]"
   ]
  },
  {
   "cell_type": "code",
   "execution_count": null,
   "metadata": {},
   "outputs": [],
   "source": [
    "df[\"full_type_name\"].unique()"
   ]
  },
  {
   "cell_type": "code",
   "execution_count": null,
   "metadata": {},
   "outputs": [],
   "source": []
  }
 ],
 "metadata": {
  "kernelspec": {
   "display_name": "Python 3.10.6 ('venv': venv)",
   "language": "python",
   "name": "python3"
  },
  "language_info": {
   "codemirror_mode": {
    "name": "ipython",
    "version": 3
   },
   "file_extension": ".py",
   "mimetype": "text/x-python",
   "name": "python",
   "nbconvert_exporter": "python",
   "pygments_lexer": "ipython3",
   "version": "3.10.6"
  },
  "orig_nbformat": 4,
  "vscode": {
   "interpreter": {
    "hash": "615aae0d314a5d9db88294c6e194e21d120d3414ae274ab087ded06c695d60a1"
   }
  }
 },
 "nbformat": 4,
 "nbformat_minor": 2
}
