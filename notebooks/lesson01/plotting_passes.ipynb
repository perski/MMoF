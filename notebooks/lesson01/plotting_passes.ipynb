{
 "cells": [
  {
   "cell_type": "code",
   "execution_count": null,
   "metadata": {},
   "outputs": [],
   "source": [
    "import matplotlib.pyplot as plt\n",
    "import numpy as np\n",
    "from mplsoccer import Pitch, Sbopen, VerticalPitch"
   ]
  },
  {
   "cell_type": "code",
   "execution_count": null,
   "metadata": {},
   "outputs": [],
   "source": [
    "# load event data for match 69301\n",
    "parser = Sbopen()\n",
    "df, related, freeze, tactics = parser.event(69301)\n",
    "#get team names\n",
    "team1, team2 = df.team_name.unique()\n",
    "#A dataframe of shots\n",
    "shots = df.loc[df['type_name'] == 'Shot'].set_index('id')"
   ]
  },
  {
   "cell_type": "code",
   "execution_count": null,
   "metadata": {},
   "outputs": [],
   "source": [
    "pitch = Pitch(line_color = \"black\")\n",
    "fig, ax = pitch.draw(figsize=(10, 7))\n",
    "#Size of the pitch in yards (!!!)\n",
    "pitchLengthX = 120\n",
    "pitchWidthY = 80\n",
    "#Plot the shots by looping through them.\n",
    "for i,shot in shots.iterrows():\n",
    "    #get the information\n",
    "    x=shot['x']\n",
    "    y=shot['y']\n",
    "    goal=shot['outcome_name']=='Goal'\n",
    "    team_name=shot['team_name']\n",
    "    #set circlesize\n",
    "    circleSize=2\n",
    "    #plot England\n",
    "    if (team_name==team1):\n",
    "        if goal:\n",
    "            shotCircle=plt.Circle((x,y),circleSize,color=\"red\")\n",
    "            plt.text(x+1,y-2,shot['player_name'])\n",
    "        else:\n",
    "            shotCircle=plt.Circle((x,y),circleSize,color=\"red\")\n",
    "            shotCircle.set_alpha(.2)\n",
    "    #plot Sweden\n",
    "    else:\n",
    "        if goal:\n",
    "            shotCircle=plt.Circle((pitchLengthX-x,pitchWidthY - y),circleSize,color=\"blue\")\n",
    "            plt.text(pitchLengthX-x+1,pitchWidthY - y - 2 ,shot['player_name'])\n",
    "        else:\n",
    "            shotCircle=plt.Circle((pitchLengthX-x,pitchWidthY - y),circleSize,color=\"blue\")\n",
    "            shotCircle.set_alpha(.2)\n",
    "    ax.add_patch(shotCircle)\n",
    "#set title\n",
    "fig.suptitle(\"England (red) and Sweden (blue) shots\", fontsize = 24)\n",
    "fig.set_size_inches(10, 7)\n",
    "plt.show()"
   ]
  },
  {
   "cell_type": "code",
   "execution_count": null,
   "metadata": {},
   "outputs": [],
   "source": [
    "#create pitch\n",
    "pitch = Pitch(line_color='black')\n",
    "fig, ax = pitch.grid(grid_height=0.9, title_height=0.06, axis=False,\n",
    "                     endnote_height=0.04, title_space=0, endnote_space=0)\n",
    "#query\n",
    "mask_england = (df.type_name == 'Shot') & (df.team_name == team1)\n",
    "#finding rows in the df and keeping only necessary columns\n",
    "df_england = df.loc[mask_england, ['x', 'y', 'outcome_name', \"player_name\"]]\n",
    "\n",
    "#plot them - if shot ended with Goal - alpha 1 and add name\n",
    "#for England\n",
    "for i, row in df_england.iterrows():\n",
    "    if row[\"outcome_name\"] == 'Goal':\n",
    "    #make circle\n",
    "       pitch.scatter(row.x, row.y, alpha = 1, s = 500, color = \"red\", ax=ax['pitch'])\n",
    "       pitch.annotate(row[\"player_name\"], (row.x + 1, row.y - 2), ax=ax['pitch'], fontsize = 12)\n",
    "    else:\n",
    "       pitch.scatter(row.x, row.y, alpha = 0.2, s = 500, color = \"red\", ax=ax['pitch'])\n",
    "\n",
    "mask_sweden = (df.type_name == 'Shot') & (df.team_name == team2)\n",
    "df_sweden = df.loc[mask_sweden, ['x', 'y', 'outcome_name', \"player_name\"]]\n",
    "\n",
    "#for Sweden we need to revert coordinates\n",
    "for i, row in df_sweden.iterrows():\n",
    "    if row[\"outcome_name\"] == 'Goal':\n",
    "       pitch.scatter(120 - row.x, 80 - row.y, alpha = 1, s = 500, color = \"blue\", ax=ax['pitch'])\n",
    "       pitch.annotate(row[\"player_name\"], (120 - row.x + 1, 80 - row.y - 2), ax=ax['pitch'], fontsize = 12)\n",
    "    else:\n",
    "       pitch.scatter(120 - row.x, 80 - row.y, alpha = 0.2, s = 500, color = \"blue\", ax=ax['pitch'])\n",
    "\n",
    "fig.suptitle(\"England (red) and Sweden (blue) shots\", fontsize = 30)\n",
    "plt.show()"
   ]
  },
  {
   "cell_type": "code",
   "execution_count": null,
   "metadata": {},
   "outputs": [],
   "source": [
    "pitch = VerticalPitch(line_color='black', half = True)\n",
    "fig, ax = pitch.grid(grid_height=0.9, title_height=0.06, axis=False,\n",
    "                     endnote_height=0.04, title_space=0, endnote_space=0)\n",
    "#plotting all shots\n",
    "pitch.scatter(df_england.x, df_england.y, alpha = 1, s = 500, color = \"red\", ax=ax['pitch'], edgecolors=\"black\")\n",
    "fig.suptitle(\"England shots against Sweden\", fontsize = 30)\n",
    "plt.show()"
   ]
  },
  {
   "cell_type": "markdown",
   "metadata": {},
   "source": [
    "#### Challenge\n",
    "\n",
    "* Create a dataframe of passes which contains all the passes in the match\n",
    "\n",
    "* Plot the start point of every Sweden pass. Attacking left to right.\n",
    "\n",
    "* Plot only passes made by Caroline Seger (she is Sara Caroline Seger in the database)\n",
    "\n",
    "* Plot arrows to show where the passes went to.\n"
   ]
  },
  {
   "cell_type": "code",
   "execution_count": null,
   "metadata": {},
   "outputs": [],
   "source": [
    "df[\"type_name\"].unique()"
   ]
  },
  {
   "cell_type": "code",
   "execution_count": null,
   "metadata": {},
   "outputs": [],
   "source": [
    "df[\"sub_type_name\"].unique()"
   ]
  },
  {
   "cell_type": "code",
   "execution_count": null,
   "metadata": {},
   "outputs": [],
   "source": [
    "df[\"full_type_name\"] = df[\"type_name\"] + \" - \" + df[\"sub_type_name\"]"
   ]
  },
  {
   "cell_type": "code",
   "execution_count": null,
   "metadata": {},
   "outputs": [],
   "source": [
    "df[\"full_type_name\"].unique()"
   ]
  },
  {
   "cell_type": "code",
   "execution_count": null,
   "metadata": {},
   "outputs": [],
   "source": [
    "# include only \"normal\" passes, i.e., no corners, free-kicks, throw-ins etc.\n",
    "df_passes = df[(df[\"type_name\"] == \"Pass\") & (df[\"sub_type_name\"].isna())]\n",
    "bind_sweden = df_passes[\"team_name\"] == team2\n",
    "df_passes_sweden = df_passes[bind_sweden]"
   ]
  },
  {
   "cell_type": "code",
   "execution_count": null,
   "metadata": {},
   "outputs": [],
   "source": [
    "pitch = Pitch(line_color='black')\n",
    "fig, ax = pitch.grid(grid_height=0.9, title_height=0.06, axis=False,\n",
    "                     endnote_height=0.04, title_space=0, endnote_space=0)\n",
    "pitch.scatter(df_passes_sweden[\"x\"], df_passes_sweden[\"y\"], alpha = .4, s = 225, color = \"blue\", ax=ax['pitch'])"
   ]
  },
  {
   "cell_type": "code",
   "execution_count": null,
   "metadata": {},
   "outputs": [],
   "source": [
    "df_passes_caroline_seger = df_passes_sweden[df_passes_sweden[\"player_name\"] == \"Sara Caroline Seger\"]"
   ]
  },
  {
   "cell_type": "code",
   "execution_count": null,
   "metadata": {},
   "outputs": [],
   "source": [
    "pitch = Pitch(line_color='black')\n",
    "fig, ax = pitch.grid(grid_height=0.9, title_height=0.06, axis=False,\n",
    "                     endnote_height=0.04, title_space=0, endnote_space=0)\n",
    "pitch.scatter(df_passes_caroline_seger[\"x\"], df_passes_caroline_seger[\"y\"], alpha = .4, s = 225, color = \"blue\", ax=ax['pitch'])"
   ]
  },
  {
   "cell_type": "code",
   "execution_count": null,
   "metadata": {},
   "outputs": [],
   "source": [
    "df_passes_caroline_seger.columns"
   ]
  },
  {
   "cell_type": "code",
   "execution_count": null,
   "metadata": {},
   "outputs": [],
   "source": [
    "start_x = df_passes_caroline_seger[\"x\"].to_numpy()\n",
    "start_x = start_x.reshape((start_x.shape[0], 1))\n",
    "start_y = df_passes_caroline_seger[\"y\"].to_numpy()\n",
    "start_y = start_y.reshape((start_y.shape[0], 1))\n",
    "end_x = df_passes_caroline_seger[\"end_x\"].to_numpy()\n",
    "end_x = end_x.reshape((end_x.shape[0], 1))\n",
    "end_y = df_passes_caroline_seger[\"end_y\"].to_numpy()\n",
    "end_y = end_y.reshape((end_y.shape[0], 1))\n",
    "\n",
    "x_coord = np.concatenate((start_x, end_x), axis=1)\n",
    "y_coord = np.concatenate((start_y, end_y), axis=1)"
   ]
  },
  {
   "cell_type": "code",
   "execution_count": null,
   "metadata": {},
   "outputs": [],
   "source": [
    "pitch = Pitch(pitch_type='statsbomb', line_color='black')\n",
    "fig, ax = pitch.draw(figsize=(16, 11), constrained_layout=True, tight_layout=False)\n",
    "fig.set_facecolor('#22312b')\n",
    "pitch.arrows(\n",
    "    df_passes_caroline_seger.x,\n",
    "    df_passes_caroline_seger.y,\n",
    "    df_passes_caroline_seger.end_x,\n",
    "    df_passes_caroline_seger.end_y,\n",
    "    ax=ax,\n",
    "    width=2,\n",
    "    headwidth=10,\n",
    "    headlength=10,\n",
    "    color='blue',\n",
    "    label='completed passes')"
   ]
  },
  {
   "cell_type": "code",
   "execution_count": null,
   "metadata": {},
   "outputs": [],
   "source": [
    "x_start\n"
   ]
  },
  {
   "cell_type": "code",
   "execution_count": null,
   "metadata": {},
   "outputs": [],
   "source": [
    "df_passes_caroline_seger.x"
   ]
  },
  {
   "cell_type": "code",
   "execution_count": null,
   "metadata": {},
   "outputs": [],
   "source": []
  }
 ],
 "metadata": {
  "kernelspec": {
   "display_name": "Python 3.10.1 ('venv': venv)",
   "language": "python",
   "name": "python3"
  },
  "language_info": {
   "codemirror_mode": {
    "name": "ipython",
    "version": 3
   },
   "file_extension": ".py",
   "mimetype": "text/x-python",
   "name": "python",
   "nbconvert_exporter": "python",
   "pygments_lexer": "ipython3",
   "version": "3.10.1"
  },
  "orig_nbformat": 4,
  "vscode": {
   "interpreter": {
    "hash": "b9a4b7522b467907e1bd97e81398b2f4027919df776a5c4e3b9f24ddb136cbcb"
   }
  }
 },
 "nbformat": 4,
 "nbformat_minor": 2
}
