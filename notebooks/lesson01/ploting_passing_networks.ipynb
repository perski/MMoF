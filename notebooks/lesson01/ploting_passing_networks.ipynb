{
 "cells": [
  {
   "cell_type": "code",
   "execution_count": null,
   "metadata": {},
   "outputs": [],
   "source": [
    "import matplotlib.pyplot as plt\n",
    "import numpy as np\n",
    "from mplsoccer import Pitch, Sbopen\n",
    "import pandas as pd"
   ]
  },
  {
   "cell_type": "code",
   "execution_count": null,
   "metadata": {},
   "outputs": [],
   "source": [
    "parser = Sbopen()\n",
    "df, related, freeze, tactics = parser.event(69301)"
   ]
  },
  {
   "cell_type": "code",
   "execution_count": null,
   "metadata": {},
   "outputs": [],
   "source": [
    "#check for index of first sub\n",
    "sub = df.loc[df[\"type_name\"] == \"Substitution\"].loc[df[\"team_name\"] == \"England Women's\"].iloc[0][\"index\"]\n",
    "#make df with successfull passes by England until the first substitution\n",
    "mask_england = (df.type_name == 'Pass') & (df.team_name == \"England Women's\") & (df.index < sub) & (df.outcome_name.isnull()) & (df.sub_type_name != \"Throw-in\")\n",
    "#taking necessary columns\n",
    "df_pass = df.loc[mask_england, ['x', 'y', 'end_x', 'end_y', \"player_name\", \"pass_recipient_name\"]]\n",
    "#adjusting that only the surname of a player is presented.\n",
    "df_pass[\"player_name\"] = df_pass[\"player_name\"].apply(lambda x: str(x).split()[-1])\n",
    "df_pass[\"pass_recipient_name\"] = df_pass[\"pass_recipient_name\"].apply(lambda x: str(x).split()[-1])"
   ]
  },
  {
   "cell_type": "code",
   "execution_count": null,
   "metadata": {},
   "outputs": [],
   "source": [
    "scatter_df = pd.DataFrame()\n",
    "for i, name in enumerate(df_pass[\"player_name\"].unique()):\n",
    "    passx = df_pass.loc[df_pass[\"player_name\"] == name][\"x\"].to_numpy()\n",
    "    recx = df_pass.loc[df_pass[\"pass_recipient_name\"] == name][\"end_x\"].to_numpy()\n",
    "    passy = df_pass.loc[df_pass[\"player_name\"] == name][\"y\"].to_numpy()\n",
    "    recy = df_pass.loc[df_pass[\"pass_recipient_name\"] == name][\"end_y\"].to_numpy()\n",
    "    scatter_df.at[i, \"player_name\"] = name\n",
    "    #make sure that x and y location for each circle representing the player is the average of passes and receptions\n",
    "    scatter_df.at[i, \"x\"] = np.mean(np.concatenate([passx, recx]))\n",
    "    scatter_df.at[i, \"y\"] = np.mean(np.concatenate([passy, recy]))\n",
    "    #calculate number of passes\n",
    "    scatter_df.at[i, \"no\"] = df_pass.loc[df_pass[\"player_name\"] == name].count().iloc[0]\n",
    "\n",
    "#adjust the size of a circle so that the player who made more passes\n",
    "scatter_df['marker_size'] = (scatter_df['no'] / scatter_df['no'].max() * 1500)"
   ]
  },
  {
   "cell_type": "code",
   "execution_count": null,
   "metadata": {},
   "outputs": [],
   "source": [
    "#counting passes between players\n",
    "lines_df = df_pass.groupby(['player_name', 'pass_recipient_name']).x.count().reset_index()\n",
    "lines_df.rename({'x':'pass_count'}, axis='columns', inplace=True)\n",
    "#setting a treshold. You can try to investigate how it changes when you change it.\n",
    "lines_df = lines_df[lines_df['pass_count']>2]"
   ]
  },
  {
   "cell_type": "code",
   "execution_count": null,
   "metadata": {},
   "outputs": [],
   "source": [
    "#Drawing pitch\n",
    "pitch = Pitch(line_color='grey')\n",
    "fig, ax = pitch.grid(grid_height=0.9, title_height=0.06, axis=False,\n",
    "                     endnote_height=0.04, title_space=0, endnote_space=0)\n",
    "#Scatter the location on the pitch\n",
    "pitch.scatter(scatter_df.x, scatter_df.y, s=scatter_df.marker_size, color='red', edgecolors='grey', linewidth=1, alpha=1, ax=ax[\"pitch\"], zorder = 3)\n",
    "#annotating player name\n",
    "for i, row in scatter_df.iterrows():\n",
    "    pitch.annotate(row.player_name, xy=(row.x, row.y), c='black', va='center', ha='center', weight = \"bold\", size=16, ax=ax[\"pitch\"], zorder = 4)\n",
    "\n",
    "fig.suptitle(\"Nodes location - England\", fontsize = 30)\n",
    "plt.show()"
   ]
  },
  {
   "cell_type": "code",
   "execution_count": null,
   "metadata": {},
   "outputs": [],
   "source": [
    "#plot once again pitch and vertices\n",
    "pitch = Pitch(line_color='grey')\n",
    "fig, ax = pitch.grid(grid_height=0.9, title_height=0.06, axis=False,\n",
    "                     endnote_height=0.04, title_space=0, endnote_space=0)\n",
    "pitch.scatter(scatter_df.x, scatter_df.y, s=scatter_df.marker_size, color='red', edgecolors='grey', linewidth=1, alpha=1, ax=ax[\"pitch\"], zorder = 3)\n",
    "for i, row in scatter_df.iterrows():\n",
    "    pitch.annotate(row.player_name, xy=(row.x, row.y), c='black', va='center', ha='center', weight = \"bold\", size=16, ax=ax[\"pitch\"], zorder = 4)\n",
    "\n",
    "for i, row in lines_df.iterrows():\n",
    "        player1 = row[\"player_name\"]\n",
    "        player2 = row['pass_recipient_name']\n",
    "        #take the average location of players to plot a line between them\n",
    "        player1_x = scatter_df.loc[scatter_df[\"player_name\"] == player1]['x'].iloc[0]\n",
    "        player1_y = scatter_df.loc[scatter_df[\"player_name\"] == player1]['y'].iloc[0]\n",
    "        player2_x = scatter_df.loc[scatter_df[\"player_name\"] == player2]['x'].iloc[0]\n",
    "        player2_y = scatter_df.loc[scatter_df[\"player_name\"] == player2]['y'].iloc[0]\n",
    "        num_passes = row[\"pass_count\"]\n",
    "        #adjust the line width so that the more passes, the wider the line\n",
    "        line_width = (num_passes / lines_df['pass_count'].max() * 10)\n",
    "        #plot lines on the pitch\n",
    "        pitch.lines(player1_x, player1_y, player2_x, player2_y,\n",
    "                        alpha=1, lw=line_width, zorder=2, color=\"red\", ax = ax[\"pitch\"])\n",
    "\n",
    "fig.suptitle(\"England Passing Network against Sweden\", fontsize = 30)\n",
    "plt.show()"
   ]
  },
  {
   "cell_type": "code",
   "execution_count": null,
   "metadata": {},
   "outputs": [],
   "source": [
    "#calculate number of successful passes by player\n",
    "no_passes = df_pass.groupby(['player_name']).x.count().reset_index()\n",
    "no_passes.rename({'x':'pass_count'}, axis='columns', inplace=True)\n",
    "#find one who made most passes\n",
    "max_no = no_passes[\"pass_count\"].max()\n",
    "#calculate the denominator - 10*the total sum of passes\n",
    "denominator = 10*no_passes[\"pass_count\"].sum()\n",
    "#calculate the nominator\n",
    "nominator = (max_no - no_passes[\"pass_count\"]).sum()\n",
    "#calculate the centralisation index\n",
    "centralisation_index = nominator/denominator\n",
    "print(\"Centralisation index is \", centralisation_index)"
   ]
  },
  {
   "cell_type": "markdown",
   "metadata": {},
   "source": [
    "#### Challenge\n",
    "\n",
    "* Make a passing network from England - Sweden game only with passes forward for England!"
   ]
  },
  {
   "cell_type": "code",
   "execution_count": null,
   "metadata": {},
   "outputs": [],
   "source": [
    "#check for index of first sub\n",
    "sub = df.loc[df[\"type_name\"] == \"Substitution\"].loc[df[\"team_name\"] == \"England Women's\"].iloc[0][\"index\"]\n",
    "#make df with successfull passes by England until the first substitution\n",
    "mask_england_forward = (df.type_name == 'Pass') & (df.team_name == \"England Women's\") & (df.index < sub) & (df.outcome_name.isnull()) & (df.sub_type_name != \"Throw-in\") & (df.end_x > df.x)\n",
    "#taking necessary columns\n",
    "df_pass_forward = df.loc[mask_england_forward, ['x', 'y', 'end_x', 'end_y', \"player_name\", \"pass_recipient_name\"]]\n",
    "#adjusting that only the surname of a player is presented.\n",
    "df_pass_forward[\"player_name\"] = df_pass_forward[\"player_name\"].apply(lambda x: str(x).split()[-1])\n",
    "df_pass_forward[\"pass_recipient_name\"] = df_pass_forward[\"pass_recipient_name\"].apply(lambda x: str(x).split()[-1])"
   ]
  },
  {
   "cell_type": "code",
   "execution_count": null,
   "metadata": {},
   "outputs": [],
   "source": [
    "scatter_df = pd.DataFrame()\n",
    "for i, name in enumerate(df_pass_forward[\"player_name\"].unique()):\n",
    "    passx = df_pass.loc[df_pass[\"player_name\"] == name][\"x\"].to_numpy()\n",
    "    recx = df_pass.loc[df_pass[\"pass_recipient_name\"] == name][\"end_x\"].to_numpy()\n",
    "    passy = df_pass.loc[df_pass[\"player_name\"] == name][\"y\"].to_numpy()\n",
    "    recy = df_pass.loc[df_pass[\"pass_recipient_name\"] == name][\"end_y\"].to_numpy()\n",
    "    scatter_df.at[i, \"player_name\"] = name\n",
    "    #make sure that x and y location for each circle representing the player is the average of passes and receptions\n",
    "    scatter_df.at[i, \"x\"] = np.mean(np.concatenate([passx, recx]))\n",
    "    scatter_df.at[i, \"y\"] = np.mean(np.concatenate([passy, recy]))\n",
    "    #calculate number of passes\n",
    "    scatter_df.at[i, \"no\"] = df_pass.loc[df_pass[\"player_name\"] == name].count().iloc[0]\n",
    "\n",
    "#adjust the size of a circle so that the player who made more passes\n",
    "scatter_df['marker_size'] = (scatter_df['no'] / scatter_df['no'].max() * 1500)"
   ]
  },
  {
   "cell_type": "code",
   "execution_count": null,
   "metadata": {},
   "outputs": [],
   "source": [
    "#counting passes between players\n",
    "lines_df = df_pass_forward.groupby(['player_name', 'pass_recipient_name']).x.count().reset_index()\n",
    "lines_df.rename({'x':'pass_count'}, axis='columns', inplace=True)\n",
    "#setting a treshold. You can try to investigate how it changes when you change it.\n",
    "lines_df = lines_df[lines_df['pass_count']>2]"
   ]
  },
  {
   "cell_type": "code",
   "execution_count": null,
   "metadata": {},
   "outputs": [],
   "source": [
    "#plot once again pitch and vertices\n",
    "pitch = Pitch(line_color='grey')\n",
    "fig, ax = pitch.grid(grid_height=0.9, title_height=0.06, axis=False,\n",
    "                     endnote_height=0.04, title_space=0, endnote_space=0)\n",
    "pitch.scatter(scatter_df.x, scatter_df.y, s=scatter_df.marker_size, color='red', edgecolors='grey', linewidth=1, alpha=1, ax=ax[\"pitch\"], zorder = 3)\n",
    "for i, row in scatter_df.iterrows():\n",
    "    pitch.annotate(row.player_name, xy=(row.x, row.y), c='black', va='center', ha='center', weight = \"bold\", size=16, ax=ax[\"pitch\"], zorder = 4)\n",
    "\n",
    "for i, row in lines_df.iterrows():\n",
    "        player1 = row[\"player_name\"]\n",
    "        player2 = row['pass_recipient_name']\n",
    "        #take the average location of players to plot a line between them\n",
    "        player1_x = scatter_df.loc[scatter_df[\"player_name\"] == player1]['x'].iloc[0]\n",
    "        player1_y = scatter_df.loc[scatter_df[\"player_name\"] == player1]['y'].iloc[0]\n",
    "        player2_x = scatter_df.loc[scatter_df[\"player_name\"] == player2]['x'].iloc[0]\n",
    "        player2_y = scatter_df.loc[scatter_df[\"player_name\"] == player2]['y'].iloc[0]\n",
    "        num_passes = row[\"pass_count\"]\n",
    "        #adjust the line width so that the more passes, the wider the line\n",
    "        line_width = (num_passes / lines_df['pass_count'].max() * 10)\n",
    "        #plot lines on the pitch\n",
    "        pitch.lines(player1_x, player1_y, player2_x, player2_y,\n",
    "                        alpha=1, lw=line_width, zorder=2, color=\"red\", ax = ax[\"pitch\"])\n",
    "\n",
    "fig.suptitle(\"England Passing Network against Sweden\", fontsize = 30)\n",
    "plt.show()"
   ]
  },
  {
   "cell_type": "code",
   "execution_count": null,
   "metadata": {},
   "outputs": [],
   "source": [
    "import matplotlib.pyplot as plt\n",
    "import numpy as np\n",
    "from mplsoccer import Pitch, Sbopen\n",
    "import pandas as pd \n",
    "\n",
    "parser = Sbopen()\n",
    "df, related, freeze, tactics = parser.event(69301)\n",
    "\n",
    "#check for index of first sub\n",
    "sub = df.loc[df[\"type_name\"] == \"Substitution\"].loc[df[\"team_name\"] == \"England Women's\"].iloc[0][\"index\"]\n",
    "#make df with successfull passes by England until the first substitution\n",
    "mask_england = (df.type_name == 'Pass') & (df.team_name == \"England Women's\") & (df.index < sub) & (df.outcome_name.isnull()) & (df.sub_type_name != \"Throw-in\")\n",
    "#not many passes are left - effect of quick first sub by England\n",
    "#taking necessary columns\n",
    "df_pass = df.loc[mask_england, ['x', 'y', 'end_x', 'end_y', \"player_name\", \"pass_recipient_name\"]]\n",
    "#adjusting that only the surname of a player is presented.\n",
    "df_pass[\"player_name\"] = df_pass[\"player_name\"].apply(lambda x: str(x).split()[-1])\n",
    "df_pass[\"pass_recipient_name\"] = df_pass[\"pass_recipient_name\"].apply(lambda x: str(x).split()[-1])\n",
    "\n",
    "#keeping only passes forward - for now, we will treat that pass forward is that x1 > x0\n",
    "mask_forward = (df_pass.end_x > df_pass.x)\n",
    "df_pass = df_pass.loc[mask_forward]\n",
    "\n",
    "#find nodes and edges - note that this is copied from Passing Networks\n",
    "scatter_df = pd.DataFrame()\n",
    "for i, name in enumerate(df_pass[\"player_name\"].unique()):\n",
    "    passx = df_pass.loc[df_pass[\"player_name\"] == name][\"x\"].to_numpy()\n",
    "    recx = df_pass.loc[df_pass[\"pass_recipient_name\"] == name][\"end_x\"].to_numpy()\n",
    "    passy = df_pass.loc[df_pass[\"player_name\"] == name][\"y\"].to_numpy()\n",
    "    recy = df_pass.loc[df_pass[\"pass_recipient_name\"] == name][\"end_y\"].to_numpy()\n",
    "    scatter_df.at[i, \"player_name\"] = name\n",
    "    #make sure that x and y location for each circle representing the player is the average of passes and receptions\n",
    "    scatter_df.at[i, \"x\"] = np.mean(np.concatenate([passx, recx]))\n",
    "    scatter_df.at[i, \"y\"] = np.mean(np.concatenate([passy, recy]))\n",
    "    #calculate number of passes\n",
    "    scatter_df.at[i, \"no\"] = df_pass.loc[df_pass[\"player_name\"] == name].count().iloc[0]\n",
    "\n",
    "#adjust the size of a circle so that the player who made more passes \n",
    "scatter_df['marker_size'] = (scatter_df['no'] / scatter_df['no'].max() * 1500)\n",
    "\n",
    "lines_df = df_pass.groupby(['player_name', 'pass_recipient_name']).x.count().reset_index()\n",
    "lines_df.rename({'x':'pass_count'}, axis='columns', inplace=True)\n",
    "lines_df = lines_df[lines_df['pass_count']>2]\n",
    "\n",
    "#plotting everything\n",
    "pitch = Pitch(line_color='grey')\n",
    "fig, ax = pitch.grid(grid_height=0.9, title_height=0.06, axis=False,\n",
    "                     endnote_height=0.04, title_space=0, endnote_space=0)\n",
    "#Scatter the location on the pitch\n",
    "pitch.scatter(scatter_df.x, scatter_df.y, s=scatter_df.marker_size, color='red', edgecolors='grey', linewidth=1, alpha=1, ax=ax[\"pitch\"], zorder = 3)\n",
    "#annotating player name\n",
    "for i, row in scatter_df.iterrows():\n",
    "    pitch.annotate(row.player_name, xy=(row.x, row.y), c='black', va='center', ha='center', weight = \"bold\", size=16, ax=ax[\"pitch\"], zorder = 4)\n",
    "\n",
    "fig.suptitle(\"Nodes location - England\", fontsize = 30)\n",
    "plt.show()\n",
    "\n",
    "pitch = Pitch(line_color='grey')\n",
    "fig, ax = pitch.grid(grid_height=0.9, title_height=0.06, axis=False,\n",
    "                     endnote_height=0.04, title_space=0, endnote_space=0)\n",
    "pitch.scatter(scatter_df.x, scatter_df.y, s=scatter_df.marker_size, color='red', edgecolors='grey', linewidth=1, alpha=1, ax=ax[\"pitch\"], zorder = 3)\n",
    "for i, row in scatter_df.iterrows():\n",
    "    pitch.annotate(row.player_name, xy=(row.x, row.y), c='black', va='center', ha='center', weight = \"bold\", size=16, ax=ax[\"pitch\"], zorder = 4)\n",
    "    \n",
    "for i, row in lines_df.iterrows():\n",
    "        player1 = row[\"player_name\"]\n",
    "        player2 = row['pass_recipient_name']\n",
    "        #take the average location of players to plot a line between them \n",
    "        player1_x = scatter_df.loc[scatter_df[\"player_name\"] == player1]['x'].iloc[0]\n",
    "        player1_y = scatter_df.loc[scatter_df[\"player_name\"] == player1]['y'].iloc[0]\n",
    "        player2_x = scatter_df.loc[scatter_df[\"player_name\"] == player2]['x'].iloc[0]\n",
    "        player2_y = scatter_df.loc[scatter_df[\"player_name\"] == player2]['y'].iloc[0]\n",
    "        num_passes = row[\"pass_count\"]\n",
    "        #adjust the line width so that the more passes, the wider the line\n",
    "        line_width = (num_passes / lines_df['pass_count'].max() * 10)\n",
    "        #plot lines on the pitch\n",
    "        pitch.lines(player1_x, player1_y, player2_x, player2_y,\n",
    "                        alpha=1, lw=line_width, zorder=2, color=\"red\", ax = ax[\"pitch\"])\n",
    "\n",
    "fig.suptitle(\"England Passing Network (passes forward) against Sweden\", fontsize = 30)\n",
    "plt.show()"
   ]
  },
  {
   "cell_type": "code",
   "execution_count": null,
   "metadata": {},
   "outputs": [],
   "source": []
  }
 ],
 "metadata": {
  "kernelspec": {
   "display_name": "Python 3.10.1 ('venv': venv)",
   "language": "python",
   "name": "python3"
  },
  "language_info": {
   "codemirror_mode": {
    "name": "ipython",
    "version": 3
   },
   "file_extension": ".py",
   "mimetype": "text/x-python",
   "name": "python",
   "nbconvert_exporter": "python",
   "pygments_lexer": "ipython3",
   "version": "3.10.1"
  },
  "orig_nbformat": 4,
  "vscode": {
   "interpreter": {
    "hash": "b9a4b7522b467907e1bd97e81398b2f4027919df776a5c4e3b9f24ddb136cbcb"
   }
  }
 },
 "nbformat": 4,
 "nbformat_minor": 2
}
