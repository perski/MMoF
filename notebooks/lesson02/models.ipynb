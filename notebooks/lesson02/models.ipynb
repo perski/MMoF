{
 "cells": [
  {
   "cell_type": "code",
   "execution_count": null,
   "metadata": {},
   "outputs": [],
   "source": [
    "import matplotlib.pyplot as plt\n",
    "import numpy as np\n",
    "import pandas as pd\n",
    "from sklearn import linear_model\n",
    "from sklearn.metrics import mean_squared_error, r2_score"
   ]
  },
  {
   "cell_type": "code",
   "execution_count": null,
   "metadata": {},
   "outputs": [],
   "source": [
    "file_path = \"/Users/per/Documents/MMoF/Soccermatics/course/lessons/lesson2/playerstats.csv\"\n",
    "df = pd.read_csv(file_path, sep=\",\")"
   ]
  },
  {
   "cell_type": "code",
   "execution_count": null,
   "metadata": {},
   "outputs": [],
   "source": [
    "df.head(10)"
   ]
  },
  {
   "cell_type": "code",
   "execution_count": null,
   "metadata": {},
   "outputs": [],
   "source": [
    "df_subset = df[:20].copy()"
   ]
  },
  {
   "cell_type": "code",
   "execution_count": null,
   "metadata": {},
   "outputs": [],
   "source": [
    "df_subset[[\"Player\", \"Age\", \"MP\", \"Starts\", \"Min\", \"90s\"]]"
   ]
  },
  {
   "cell_type": "code",
   "execution_count": null,
   "metadata": {},
   "outputs": [],
   "source": [
    "fig, ax = plt.subplots()\n",
    "ax.scatter(df_subset.Age, df_subset.Min, s=16, c=\"b\", marker=\"o\")\n",
    "ax.set(\n",
    "    xlabel=\"Age [years]\",\n",
    "    ylabel=\"Minutes played [minutes]\",\n",
    "    title=\"Playing time vs age\"\n",
    ")\n",
    "ax.grid()\n",
    "fig.show()"
   ]
  },
  {
   "cell_type": "code",
   "execution_count": null,
   "metadata": {},
   "outputs": [],
   "source": [
    "features = [\"Age\"]\n",
    "target = \"Min\"\n",
    "X = df_subset[features].values\n",
    "y = df_subset[target].values\n",
    "reg = linear_model.LinearRegression()\n",
    "reg.fit(X, y);\n",
    "X_pred = [[15], [45]]\n",
    "y_pred = reg.predict(X)"
   ]
  },
  {
   "cell_type": "code",
   "execution_count": null,
   "metadata": {},
   "outputs": [],
   "source": [
    "fig, ax = plt.subplots()\n",
    "ax.scatter(df_subset.Age, df_subset.Min, s=16, c=\"b\", marker=\"o\")\n",
    "ax.plot(X, y_pred, '-k')\n",
    "ax.set(\n",
    "    xlabel=\"Age [years]\",\n",
    "    ylabel=\"Minutes played [minutes]\",\n",
    "    title=\"Playing time vs age\"\n",
    ")\n",
    "ax.grid()"
   ]
  },
  {
   "cell_type": "code",
   "execution_count": null,
   "metadata": {},
   "outputs": [],
   "source": [
    "mse =mean_squared_error(y_true=y, y_pred=y_pred)\n",
    "r2 = r2_score(y_true=y, y_pred=y_pred)\n",
    "print(f\"Mean square error: {mse}\")\n",
    "print(f\"Coefficient of determination: {r2}\")"
   ]
  },
  {
   "cell_type": "code",
   "execution_count": null,
   "metadata": {},
   "outputs": [],
   "source": [
    "X2 = np.concatenate((X, np.square(X)), axis=1)  # X in first column, X^2 in second column\n",
    "reg = linear_model.LinearRegression()\n",
    "reg.fit(X2, y);\n",
    "y2_pred = reg.predict(X2)"
   ]
  },
  {
   "cell_type": "code",
   "execution_count": null,
   "metadata": {},
   "outputs": [],
   "source": [
    "idx = X.flatten().argsort()\n",
    "\n",
    "fig, ax = plt.subplots()\n",
    "ax.scatter(df_subset.Age, df_subset.Min, s=16, c=\"b\", marker=\"o\")\n",
    "ax.plot(X.flatten()[idx], y2_pred[idx], '--k')\n",
    "ax.set(\n",
    "    xlabel=\"Age [years]\",\n",
    "    ylabel=\"Minutes played [minutes]\",\n",
    "    title=\"Playing time vs age\"\n",
    ")\n",
    "ax.grid()"
   ]
  },
  {
   "cell_type": "code",
   "execution_count": null,
   "metadata": {},
   "outputs": [],
   "source": [
    "mse =mean_squared_error(y_true=y, y_pred=y2_pred)\n",
    "r2 = r2_score(y_true=y, y_pred=y2_pred)\n",
    "print(f\"Mean square error: {mse}\")\n",
    "print(f\"Coefficient of determination: {r2}\")"
   ]
  },
  {
   "cell_type": "markdown",
   "metadata": {},
   "source": [
    "### Use all data points"
   ]
  },
  {
   "cell_type": "code",
   "execution_count": null,
   "metadata": {},
   "outputs": [],
   "source": [
    "features = [\"Age\"]\n",
    "target = [\"Min\"]\n",
    "X = df[features].values\n",
    "y = df[target].values\n",
    "bind = np.isfinite(X)\n",
    "X = X[bind]\n",
    "y = y[bind]\n",
    "X = np.reshape(X, (X.shape[0], 1))\n",
    "y = np.reshape(y, (y.shape[0], 1))\n",
    "X = np.concatenate((X, np.square(X)), axis=1)  # X in first column, X^2 in second column\n",
    "reg = linear_model.LinearRegression()\n",
    "reg.fit(X, y);\n",
    "y_pred = reg.predict(X)"
   ]
  },
  {
   "cell_type": "code",
   "execution_count": null,
   "metadata": {},
   "outputs": [],
   "source": [
    "idx = X[:,0].flatten().argsort()\n",
    "\n",
    "fig, ax = plt.subplots()\n",
    "ax.scatter(df.Age, df.Min, s=16, c=\"b\", marker=\"o\")\n",
    "ax.plot(X[:,0].flatten()[idx], y_pred[idx], '--k')\n",
    "ax.set(\n",
    "    xlabel=\"Age [years]\",\n",
    "    ylabel=\"Minutes played [minutes]\",\n",
    "    title=\"Playing time vs age\"\n",
    ")\n",
    "ax.grid()"
   ]
  },
  {
   "cell_type": "code",
   "execution_count": null,
   "metadata": {},
   "outputs": [],
   "source": []
  }
 ],
 "metadata": {
  "kernelspec": {
   "display_name": "Python 3.10.6 ('venv': venv)",
   "language": "python",
   "name": "python3"
  },
  "language_info": {
   "codemirror_mode": {
    "name": "ipython",
    "version": 3
   },
   "file_extension": ".py",
   "mimetype": "text/x-python",
   "name": "python",
   "nbconvert_exporter": "python",
   "pygments_lexer": "ipython3",
   "version": "3.10.6"
  },
  "orig_nbformat": 4,
  "vscode": {
   "interpreter": {
    "hash": "615aae0d314a5d9db88294c6e194e21d120d3414ae274ab087ded06c695d60a1"
   }
  }
 },
 "nbformat": 4,
 "nbformat_minor": 2
}
